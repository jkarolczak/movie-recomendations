{
 "cells": [
  {
   "cell_type": "markdown",
   "metadata": {},
   "source": [
    "# Imports"
   ]
  },
  {
   "cell_type": "code",
   "execution_count": 1,
   "metadata": {},
   "outputs": [],
   "source": [
    "import pandas as pd\n",
    "from mlxtend.frequent_patterns import apriori\n",
    "from mlxtend.frequent_patterns import association_rules"
   ]
  },
  {
   "cell_type": "markdown",
   "metadata": {},
   "source": [
    "# Data preparation\n"
   ]
  },
  {
   "cell_type": "code",
   "execution_count": 2,
   "metadata": {},
   "outputs": [],
   "source": [
    "movies = pd.read_csv('datasets/movies.csv').drop('genres', axis=1)\n",
    "ratings = pd.read_csv('datasets/ratings.csv')"
   ]
  },
  {
   "cell_type": "code",
   "execution_count": 3,
   "metadata": {},
   "outputs": [],
   "source": [
    "movies = pd.read_csv('datasets/movies.csv').drop('genres', axis=1)\n",
    "ratings = pd.read_csv('datasets/ratings.csv')\n",
    "\n",
    "ratings = ratings.join(movies, on='movieId', how='left', lsuffix=\"_m\")\n",
    "\n",
    "ratings.drop(['movieId', 'movieId_m', 'timestamp'], axis=1, inplace=True)\n",
    "\n",
    "positive = ratings.drop(ratings[ratings.rating < 4].index,\n",
    "                        axis=0,\n",
    "                        inplace=False).drop('rating',\n",
    "                                           axis=1)\n",
    "\n",
    "negative = ratings.drop(ratings[ratings.rating > 2].index,\n",
    "                        axis=0, \n",
    "                        inplace=False).drop('rating',\n",
    "                                            axis=1)\n",
    "positive = positive.pivot_table(index='userId', \n",
    "                     columns='title', \n",
    "                     values='title', \n",
    "                     aggfunc=lambda x: ' '.join(x)).apply(lambda x: x==x)\n",
    "\n",
    "negative = negative.pivot_table(index='userId', \n",
    "                     columns='title', \n",
    "                     values='title', \n",
    "                     aggfunc=lambda x: ' '.join(x)).apply(lambda x: x==x)"
   ]
  },
  {
   "cell_type": "markdown",
   "metadata": {},
   "source": [
    "# Association rules"
   ]
  },
  {
   "cell_type": "code",
   "execution_count": 4,
   "metadata": {},
   "outputs": [],
   "source": [
    "frequent_itemset_positive = apriori(positive, min_support=0.05, use_colnames=True)\n",
    "positive_rules = association_rules(frequent_itemset_positive, metric=\"confidence\", min_threshold=0.5)\n",
    "\n",
    "frequent_itemset_negative = apriori(negative, min_support=0.05, use_colnames=True)\n",
    "negative_rules = association_rules(frequent_itemset_positive, metric=\"confidence\", min_threshold=0.5)"
   ]
  },
  {
   "cell_type": "markdown",
   "metadata": {},
   "source": [
    "# Predictions"
   ]
  },
  {
   "cell_type": "markdown",
   "metadata": {},
   "source": [
    "## Movies recommended to you\n",
    "Provide movies which you like below"
   ]
  },
  {
   "cell_type": "code",
   "execution_count": 5,
   "metadata": {},
   "outputs": [],
   "source": [
    "preferences = {'Inkheart (2008)', 'Daytrippers, The (1996)'}"
   ]
  },
  {
   "cell_type": "code",
   "execution_count": 6,
   "metadata": {},
   "outputs": [
    {
     "data": {
      "text/plain": [
       "{'Angus (1995)',\n",
       " 'Bird on a Wire (1990)',\n",
       " 'Crow, The (1994)',\n",
       " 'Departed, The (2006)',\n",
       " 'Desperate Measures (1998)',\n",
       " 'Front Page, The (1974)',\n",
       " 'Infernal Affairs 2 (Mou gaan dou II) (2003)',\n",
       " 'Keys to Tulsa (1997)',\n",
       " 'Mirage (1995)',\n",
       " 'Once Were Warriors (1994)',\n",
       " 'Pal Joey (1957)',\n",
       " 'Serpent and the Rainbow, The (1988)',\n",
       " 'Soul Food (1997)',\n",
       " 'Southpaw (2015)',\n",
       " 'Tom & Viv (1994)',\n",
       " 'Van, The (1996)'}"
      ]
     },
     "execution_count": 6,
     "metadata": {},
     "output_type": "execute_result"
    }
   ],
   "source": [
    "idx =  positive_rules['antecedents'].apply(lambda x: x.issuperset(preferences))\n",
    "set([list(x)[0] for x in list(positive_rules[idx].consequents.drop_duplicates())])"
   ]
  },
  {
   "cell_type": "markdown",
   "metadata": {},
   "source": [
    "## Movies defienietly not recommended to you\n",
    "Provide movies which you don't like below"
   ]
  },
  {
   "cell_type": "code",
   "execution_count": 7,
   "metadata": {},
   "outputs": [],
   "source": [
    "dislikes = {'Soul Food (1997)', 'Keys to Tulsa (1997)'}"
   ]
  },
  {
   "cell_type": "code",
   "execution_count": 8,
   "metadata": {},
   "outputs": [
    {
     "data": {
      "text/plain": [
       "{'Angus (1995)',\n",
       " 'Bambi (1942)',\n",
       " 'Battle for the Planet of the Apes (1973)',\n",
       " 'Beauty and the Beast (1991)',\n",
       " 'Bird on a Wire (1990)',\n",
       " 'Boomerang (1992)',\n",
       " 'Crash (1996)',\n",
       " 'Crow, The (1994)',\n",
       " 'Daytrippers, The (1996)',\n",
       " 'Desperate Measures (1998)',\n",
       " 'Fantasia (1940)',\n",
       " 'Front Page, The (1974)',\n",
       " 'Hidden, The (1987)',\n",
       " 'In Love and War (1996)',\n",
       " 'Infernal Affairs 2 (Mou gaan dou II) (2003)',\n",
       " 'Inkheart (2008)',\n",
       " 'Jumanji (1995)',\n",
       " 'Mirage (1995)',\n",
       " 'Once Were Warriors (1994)',\n",
       " 'Pal Joey (1957)',\n",
       " 'Pillow Book, The (1996)',\n",
       " 'Simple Twist of Fate, A (1994)',\n",
       " 'Superman II (1980)',\n",
       " 'Swingers (1996)',\n",
       " 'Tom & Viv (1994)',\n",
       " 'True Crime (1996)',\n",
       " 'Van, The (1996)'}"
      ]
     },
     "execution_count": 8,
     "metadata": {},
     "output_type": "execute_result"
    }
   ],
   "source": [
    "idx =  negative_rules['antecedents'].apply(lambda x: x.issuperset(dislikes))\n",
    "set([list(x)[0] for x in list(negative_rules[idx].consequents)])"
   ]
  }
 ],
 "metadata": {
  "kernelspec": {
   "display_name": "Python 3",
   "language": "python",
   "name": "python3"
  },
  "language_info": {
   "codemirror_mode": {
    "name": "ipython",
    "version": 3
   },
   "file_extension": ".py",
   "mimetype": "text/x-python",
   "name": "python",
   "nbconvert_exporter": "python",
   "pygments_lexer": "ipython3",
   "version": "3.7.6"
  },
  "toc": {
   "base_numbering": 1,
   "nav_menu": {},
   "number_sections": true,
   "sideBar": true,
   "skip_h1_title": false,
   "title_cell": "Table of Contents",
   "title_sidebar": "Contents",
   "toc_cell": false,
   "toc_position": {},
   "toc_section_display": true,
   "toc_window_display": false
  }
 },
 "nbformat": 4,
 "nbformat_minor": 4
}
